{
 "cells": [
  {
   "cell_type": "markdown",
   "id": "1a0241bf",
   "metadata": {},
   "source": [
    "1. Is the Python Standard Library included with PyInputPlus?"
   ]
  },
  {
   "cell_type": "markdown",
   "id": "a55b4743",
   "metadata": {},
   "source": [
    "ans - NO Pylnputplus is a third party module and does not come with the python standard library"
   ]
  },
  {
   "cell_type": "markdown",
   "id": "f7c02da9",
   "metadata": {},
   "source": [
    "2. Why is PyInputPlus commonly imported with import pyinputplus as pypi?"
   ]
  },
  {
   "cell_type": "markdown",
   "id": "a1f4102c",
   "metadata": {},
   "source": [
    "ans - This optionally makes your code shorter to type: you can type pyip.inputStr() instead of pyinputplus.inputStr()."
   ]
  },
  {
   "cell_type": "markdown",
   "id": "e8594930",
   "metadata": {},
   "source": [
    "3. How do you distinguish between inputInt() and inputFloat()?"
   ]
  },
  {
   "cell_type": "markdown",
   "id": "85f75b01",
   "metadata": {},
   "source": [
    "ans - The inputInt() function returns an int value, while the inputFloat() function returns a float value. This is the difference between returning 4 and 4.2"
   ]
  },
  {
   "cell_type": "markdown",
   "id": "d1a08698",
   "metadata": {},
   "source": [
    "4. Using PyInputPlus, how do you ensure that the user enters a whole number between 0 and 99?"
   ]
  },
  {
   "cell_type": "markdown",
   "id": "a31c6a28",
   "metadata": {},
   "source": [
    "ans- Call pyip.inputint(min=0, max=99)."
   ]
  },
  {
   "cell_type": "markdown",
   "id": "e78bdb5b",
   "metadata": {},
   "source": [
    "5. What is transferred to the keyword arguments allow Regexes and blockRegexes?"
   ]
  },
  {
   "cell_type": "markdown",
   "id": "24a007d2",
   "metadata": {},
   "source": [
    "ans- A list of regex strings that are either explicitly allowed or denied"
   ]
  },
  {
   "cell_type": "markdown",
   "id": "ad36fe2a",
   "metadata": {},
   "source": [
    "6. If a blank input is entered three times, what does inputStr(limit=3) do?"
   ]
  },
  {
   "cell_type": "markdown",
   "id": "9189c018",
   "metadata": {},
   "source": [
    "ans- The function will raise RetryLimitException."
   ]
  },
  {
   "cell_type": "markdown",
   "id": "672498db",
   "metadata": {},
   "source": [
    "7. If blank input is entered three times, what does inputStr(limit=3, default='hello') do?"
   ]
  },
  {
   "cell_type": "markdown",
   "id": "1d0e7405",
   "metadata": {},
   "source": [
    "ans- The function returns the value 'hello'"
   ]
  },
  {
   "cell_type": "code",
   "execution_count": null,
   "id": "c4293909",
   "metadata": {},
   "outputs": [],
   "source": []
  }
 ],
 "metadata": {
  "kernelspec": {
   "display_name": "Python 3 (ipykernel)",
   "language": "python",
   "name": "python3"
  },
  "language_info": {
   "codemirror_mode": {
    "name": "ipython",
    "version": 3
   },
   "file_extension": ".py",
   "mimetype": "text/x-python",
   "name": "python",
   "nbconvert_exporter": "python",
   "pygments_lexer": "ipython3",
   "version": "3.10.9"
  }
 },
 "nbformat": 4,
 "nbformat_minor": 5
}
